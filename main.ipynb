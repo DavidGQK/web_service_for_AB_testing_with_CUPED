{
 "cells": [
  {
   "cell_type": "markdown",
   "id": "849fd300",
   "metadata": {
    "ExecuteTime": {
     "end_time": "2022-08-17T09:50:25.741006Z",
     "start_time": "2022-08-17T09:50:25.736997Z"
    }
   },
   "source": [
    "# DATA EXPLORATION"
   ]
  },
  {
   "cell_type": "code",
   "execution_count": 2,
   "id": "f767579e",
   "metadata": {
    "ExecuteTime": {
     "end_time": "2022-08-19T09:17:01.053456Z",
     "start_time": "2022-08-19T09:16:57.918213Z"
    }
   },
   "outputs": [],
   "source": [
    "import os\n",
    "import json\n",
    "import time\n",
    "import matplotlib.pyplot as plt\n",
    "import seaborn as sns\n",
    "import sidetable\n",
    "\n",
    "from sklearn.model_selection import train_test_split\n",
    "from sklearn.metrics import mean_squared_error\n",
    "from catboost import CatBoostRegressor\n",
    "from sklearn.linear_model import LinearRegression\n",
    "from sklearn.tree import DecisionTreeRegressor\n",
    "from sklearn.ensemble import RandomForestRegressor\n",
    "\n",
    "\n",
    "import numpy as np\n",
    "import pandas as pd\n",
    "from scipy.stats import ttest_ind\n",
    "from flask import Flask, jsonify, request"
   ]
  },
  {
   "cell_type": "code",
   "execution_count": 2,
   "id": "bab89cfc",
   "metadata": {
    "ExecuteTime": {
     "end_time": "2022-08-19T08:09:13.984798Z",
     "start_time": "2022-08-19T08:09:13.980798Z"
    }
   },
   "outputs": [],
   "source": [
    "titlesize = 16\n",
    "labelsize = 16\n",
    "legendsize = 16\n",
    "xticksize = 16\n",
    "yticksize = xticksize\n",
    "\n",
    "plt.rcParams['legend.markerscale'] = 1.5     # the relative size of legend markers vs. original\n",
    "plt.rcParams['legend.handletextpad'] = 0.5\n",
    "plt.rcParams['legend.labelspacing'] = 0.4    # the vertical space between the legend entries in fraction of fontsize\n",
    "plt.rcParams['legend.borderpad'] = 0.5       # border whitespace in fontsize units\n",
    "plt.rcParams['font.size'] = 12\n",
    "plt.rcParams['font.serif'] = 'Times New Roman'\n",
    "plt.rcParams['axes.labelsize'] = labelsize\n",
    "plt.rcParams['axes.titlesize'] = titlesize\n",
    "plt.rcParams['figure.figsize'] = (10, 6)\n",
    "\n",
    "plt.rc('xtick', labelsize=xticksize)\n",
    "plt.rc('ytick', labelsize=yticksize)\n",
    "plt.rc('legend', fontsize=legendsize)"
   ]
  },
  {
   "cell_type": "code",
   "execution_count": 78,
   "id": "dca9bd35",
   "metadata": {
    "ExecuteTime": {
     "end_time": "2022-08-19T09:05:10.706002Z",
     "start_time": "2022-08-19T09:05:03.130844Z"
    }
   },
   "outputs": [],
   "source": [
    "PATH_DF_USERS = \"data/df_users.csv\"\n",
    "PATH_DF_SALES = \"data/df_sales.csv\"\n",
    "\n",
    "# EMB_PATH_KNRM = os.environ['PATH_DF_USERS']\n",
    "# VOCAB_PATH = os.environ['PATH_DF_SALES']\n",
    "\n",
    "# Get data about users and their purchases\n",
    "df_users = pd.read_csv(PATH_DF_USERS)\n",
    "df_sales = pd.read_csv(PATH_DF_SALES)"
   ]
  },
  {
   "cell_type": "markdown",
   "id": "6695ddbb",
   "metadata": {},
   "source": [
    "## USERS"
   ]
  },
  {
   "cell_type": "code",
   "execution_count": 4,
   "id": "5747654f",
   "metadata": {
    "ExecuteTime": {
     "end_time": "2022-08-19T08:09:27.196222Z",
     "start_time": "2022-08-19T08:09:27.187221Z"
    }
   },
   "outputs": [
    {
     "data": {
      "text/html": [
       "<div>\n",
       "<style scoped>\n",
       "    .dataframe tbody tr th:only-of-type {\n",
       "        vertical-align: middle;\n",
       "    }\n",
       "\n",
       "    .dataframe tbody tr th {\n",
       "        vertical-align: top;\n",
       "    }\n",
       "\n",
       "    .dataframe thead th {\n",
       "        text-align: right;\n",
       "    }\n",
       "</style>\n",
       "<table border=\"1\" class=\"dataframe\">\n",
       "  <thead>\n",
       "    <tr style=\"text-align: right;\">\n",
       "      <th></th>\n",
       "      <th>user_id</th>\n",
       "      <th>gender</th>\n",
       "      <th>age</th>\n",
       "    </tr>\n",
       "  </thead>\n",
       "  <tbody>\n",
       "    <tr>\n",
       "      <th>0</th>\n",
       "      <td>2661066</td>\n",
       "      <td>0</td>\n",
       "      <td>22</td>\n",
       "    </tr>\n",
       "    <tr>\n",
       "      <th>1</th>\n",
       "      <td>3848565</td>\n",
       "      <td>1</td>\n",
       "      <td>29</td>\n",
       "    </tr>\n",
       "    <tr>\n",
       "      <th>2</th>\n",
       "      <td>5801450</td>\n",
       "      <td>0</td>\n",
       "      <td>24</td>\n",
       "    </tr>\n",
       "    <tr>\n",
       "      <th>3</th>\n",
       "      <td>1041736</td>\n",
       "      <td>0</td>\n",
       "      <td>27</td>\n",
       "    </tr>\n",
       "    <tr>\n",
       "      <th>4</th>\n",
       "      <td>9545654</td>\n",
       "      <td>1</td>\n",
       "      <td>25</td>\n",
       "    </tr>\n",
       "    <tr>\n",
       "      <th>...</th>\n",
       "      <td>...</td>\n",
       "      <td>...</td>\n",
       "      <td>...</td>\n",
       "    </tr>\n",
       "    <tr>\n",
       "      <th>999995</th>\n",
       "      <td>6230586</td>\n",
       "      <td>0</td>\n",
       "      <td>23</td>\n",
       "    </tr>\n",
       "    <tr>\n",
       "      <th>999996</th>\n",
       "      <td>6168079</td>\n",
       "      <td>1</td>\n",
       "      <td>25</td>\n",
       "    </tr>\n",
       "    <tr>\n",
       "      <th>999997</th>\n",
       "      <td>8134126</td>\n",
       "      <td>0</td>\n",
       "      <td>30</td>\n",
       "    </tr>\n",
       "    <tr>\n",
       "      <th>999998</th>\n",
       "      <td>8975579</td>\n",
       "      <td>1</td>\n",
       "      <td>25</td>\n",
       "    </tr>\n",
       "    <tr>\n",
       "      <th>999999</th>\n",
       "      <td>1403724</td>\n",
       "      <td>0</td>\n",
       "      <td>23</td>\n",
       "    </tr>\n",
       "  </tbody>\n",
       "</table>\n",
       "<p>1000000 rows × 3 columns</p>\n",
       "</div>"
      ],
      "text/plain": [
       "        user_id  gender  age\n",
       "0       2661066       0   22\n",
       "1       3848565       1   29\n",
       "2       5801450       0   24\n",
       "3       1041736       0   27\n",
       "4       9545654       1   25\n",
       "...         ...     ...  ...\n",
       "999995  6230586       0   23\n",
       "999996  6168079       1   25\n",
       "999997  8134126       0   30\n",
       "999998  8975579       1   25\n",
       "999999  1403724       0   23\n",
       "\n",
       "[1000000 rows x 3 columns]"
      ]
     },
     "execution_count": 4,
     "metadata": {},
     "output_type": "execute_result"
    }
   ],
   "source": [
    "df_users"
   ]
  },
  {
   "cell_type": "code",
   "execution_count": 5,
   "id": "9619f3ea",
   "metadata": {
    "ExecuteTime": {
     "end_time": "2022-08-19T08:09:29.085676Z",
     "start_time": "2022-08-19T08:09:29.063674Z"
    }
   },
   "outputs": [
    {
     "data": {
      "text/html": [
       "<div>\n",
       "<style scoped>\n",
       "    .dataframe tbody tr th:only-of-type {\n",
       "        vertical-align: middle;\n",
       "    }\n",
       "\n",
       "    .dataframe tbody tr th {\n",
       "        vertical-align: top;\n",
       "    }\n",
       "\n",
       "    .dataframe thead th {\n",
       "        text-align: right;\n",
       "    }\n",
       "</style>\n",
       "<table border=\"1\" class=\"dataframe\">\n",
       "  <thead>\n",
       "    <tr style=\"text-align: right;\">\n",
       "      <th></th>\n",
       "      <th>missing</th>\n",
       "      <th>total</th>\n",
       "      <th>percent</th>\n",
       "    </tr>\n",
       "  </thead>\n",
       "  <tbody>\n",
       "    <tr>\n",
       "      <th>user_id</th>\n",
       "      <td>0</td>\n",
       "      <td>1000000</td>\n",
       "      <td>0.0</td>\n",
       "    </tr>\n",
       "    <tr>\n",
       "      <th>gender</th>\n",
       "      <td>0</td>\n",
       "      <td>1000000</td>\n",
       "      <td>0.0</td>\n",
       "    </tr>\n",
       "    <tr>\n",
       "      <th>age</th>\n",
       "      <td>0</td>\n",
       "      <td>1000000</td>\n",
       "      <td>0.0</td>\n",
       "    </tr>\n",
       "  </tbody>\n",
       "</table>\n",
       "</div>"
      ],
      "text/plain": [
       "         missing    total  percent\n",
       "user_id        0  1000000      0.0\n",
       "gender         0  1000000      0.0\n",
       "age            0  1000000      0.0"
      ]
     },
     "execution_count": 5,
     "metadata": {},
     "output_type": "execute_result"
    }
   ],
   "source": [
    "df_users.stb.missing()"
   ]
  },
  {
   "cell_type": "code",
   "execution_count": 6,
   "id": "6039dba7",
   "metadata": {
    "ExecuteTime": {
     "end_time": "2022-08-19T08:09:30.585282Z",
     "start_time": "2022-08-19T08:09:29.990728Z"
    }
   },
   "outputs": [
    {
     "data": {
      "image/png": "[encoded data removed]",
      "text/plain": [
       "<Figure size 720x432 with 1 Axes>"
      ]
     },
     "metadata": {
      "needs_background": "light"
     },
     "output_type": "display_data"
    }
   ],
   "source": [
    "sns.histplot(df_users['gender'], bins=30)\n",
    "plt.title('gender')\n",
    "plt.show()"
   ]
  },
  {
   "cell_type": "code",
   "execution_count": 7,
   "id": "35bd17b2",
   "metadata": {
    "ExecuteTime": {
     "end_time": "2022-08-19T08:09:34.088208Z",
     "start_time": "2022-08-19T08:09:33.613531Z"
    }
   },
   "outputs": [
    {
     "data": {
      "image/png": "[encoded data removed]",
      "text/plain": [
       "<Figure size 720x432 with 1 Axes>"
      ]
     },
     "metadata": {
      "needs_background": "light"
     },
     "output_type": "display_data"
    }
   ],
   "source": [
    "sns.histplot(df_users['age'], bins=30)\n",
    "plt.title('age')\n",
    "plt.show()"
   ]
  },
  {
   "cell_type": "code",
   "execution_count": 1,
   "id": "5d3e5c8f",
   "metadata": {
    "ExecuteTime": {
     "end_time": "2023-01-16T09:52:49.396917Z",
     "start_time": "2023-01-16T09:52:49.391917Z"
    },
    "scrolled": true
   },
   "outputs": [],
   "source": [
    "df_users['age'].value_counts().sort_index(ascending=True)"
   ]
  },
  {
   "cell_type": "markdown",
   "id": "3273305f",
   "metadata": {
    "ExecuteTime": {
     "end_time": "2022-08-17T11:32:19.969698Z",
     "start_time": "2022-08-17T11:32:19.966696Z"
    }
   },
   "source": [
    "## SALES"
   ]
  },
  {
   "cell_type": "code",
   "execution_count": 9,
   "id": "e5fd6060",
   "metadata": {
    "ExecuteTime": {
     "end_time": "2022-08-19T08:09:44.401962Z",
     "start_time": "2022-08-19T08:09:44.393961Z"
    }
   },
   "outputs": [
    {
     "data": {
      "text/html": [
       "<div>\n",
       "<style scoped>\n",
       "    .dataframe tbody tr th:only-of-type {\n",
       "        vertical-align: middle;\n",
       "    }\n",
       "\n",
       "    .dataframe tbody tr th {\n",
       "        vertical-align: top;\n",
       "    }\n",
       "\n",
       "    .dataframe thead th {\n",
       "        text-align: right;\n",
       "    }\n",
       "</style>\n",
       "<table border=\"1\" class=\"dataframe\">\n",
       "  <thead>\n",
       "    <tr style=\"text-align: right;\">\n",
       "      <th></th>\n",
       "      <th>user_id</th>\n",
       "      <th>day</th>\n",
       "      <th>sales</th>\n",
       "    </tr>\n",
       "  </thead>\n",
       "  <tbody>\n",
       "    <tr>\n",
       "      <th>0</th>\n",
       "      <td>2661066</td>\n",
       "      <td>0</td>\n",
       "      <td>397</td>\n",
       "    </tr>\n",
       "    <tr>\n",
       "      <th>1</th>\n",
       "      <td>3848565</td>\n",
       "      <td>1</td>\n",
       "      <td>841</td>\n",
       "    </tr>\n",
       "    <tr>\n",
       "      <th>2</th>\n",
       "      <td>3848565</td>\n",
       "      <td>2</td>\n",
       "      <td>423</td>\n",
       "    </tr>\n",
       "    <tr>\n",
       "      <th>3</th>\n",
       "      <td>3848565</td>\n",
       "      <td>4</td>\n",
       "      <td>826</td>\n",
       "    </tr>\n",
       "    <tr>\n",
       "      <th>4</th>\n",
       "      <td>3848565</td>\n",
       "      <td>6</td>\n",
       "      <td>859</td>\n",
       "    </tr>\n",
       "    <tr>\n",
       "      <th>...</th>\n",
       "      <td>...</td>\n",
       "      <td>...</td>\n",
       "      <td>...</td>\n",
       "    </tr>\n",
       "    <tr>\n",
       "      <th>39530484</th>\n",
       "      <td>1403724</td>\n",
       "      <td>52</td>\n",
       "      <td>358</td>\n",
       "    </tr>\n",
       "    <tr>\n",
       "      <th>39530485</th>\n",
       "      <td>1403724</td>\n",
       "      <td>52</td>\n",
       "      <td>169</td>\n",
       "    </tr>\n",
       "    <tr>\n",
       "      <th>39530486</th>\n",
       "      <td>1403724</td>\n",
       "      <td>52</td>\n",
       "      <td>140</td>\n",
       "    </tr>\n",
       "    <tr>\n",
       "      <th>39530487</th>\n",
       "      <td>1403724</td>\n",
       "      <td>53</td>\n",
       "      <td>614</td>\n",
       "    </tr>\n",
       "    <tr>\n",
       "      <th>39530488</th>\n",
       "      <td>1403724</td>\n",
       "      <td>54</td>\n",
       "      <td>468</td>\n",
       "    </tr>\n",
       "  </tbody>\n",
       "</table>\n",
       "<p>39530489 rows × 3 columns</p>\n",
       "</div>"
      ],
      "text/plain": [
       "          user_id  day  sales\n",
       "0         2661066    0    397\n",
       "1         3848565    1    841\n",
       "2         3848565    2    423\n",
       "3         3848565    4    826\n",
       "4         3848565    6    859\n",
       "...           ...  ...    ...\n",
       "39530484  1403724   52    358\n",
       "39530485  1403724   52    169\n",
       "39530486  1403724   52    140\n",
       "39530487  1403724   53    614\n",
       "39530488  1403724   54    468\n",
       "\n",
       "[39530489 rows x 3 columns]"
      ]
     },
     "execution_count": 9,
     "metadata": {},
     "output_type": "execute_result"
    }
   ],
   "source": [
    "df_sales"
   ]
  },
  {
   "cell_type": "code",
   "execution_count": 10,
   "id": "3b4fabc4",
   "metadata": {
    "ExecuteTime": {
     "end_time": "2022-08-19T08:09:47.685804Z",
     "start_time": "2022-08-19T08:09:47.377881Z"
    }
   },
   "outputs": [
    {
     "data": {
      "text/html": [
       "<div>\n",
       "<style scoped>\n",
       "    .dataframe tbody tr th:only-of-type {\n",
       "        vertical-align: middle;\n",
       "    }\n",
       "\n",
       "    .dataframe tbody tr th {\n",
       "        vertical-align: top;\n",
       "    }\n",
       "\n",
       "    .dataframe thead th {\n",
       "        text-align: right;\n",
       "    }\n",
       "</style>\n",
       "<table border=\"1\" class=\"dataframe\">\n",
       "  <thead>\n",
       "    <tr style=\"text-align: right;\">\n",
       "      <th></th>\n",
       "      <th>missing</th>\n",
       "      <th>total</th>\n",
       "      <th>percent</th>\n",
       "    </tr>\n",
       "  </thead>\n",
       "  <tbody>\n",
       "    <tr>\n",
       "      <th>user_id</th>\n",
       "      <td>0</td>\n",
       "      <td>39530489</td>\n",
       "      <td>0.0</td>\n",
       "    </tr>\n",
       "    <tr>\n",
       "      <th>day</th>\n",
       "      <td>0</td>\n",
       "      <td>39530489</td>\n",
       "      <td>0.0</td>\n",
       "    </tr>\n",
       "    <tr>\n",
       "      <th>sales</th>\n",
       "      <td>0</td>\n",
       "      <td>39530489</td>\n",
       "      <td>0.0</td>\n",
       "    </tr>\n",
       "  </tbody>\n",
       "</table>\n",
       "</div>"
      ],
      "text/plain": [
       "         missing     total  percent\n",
       "user_id        0  39530489      0.0\n",
       "day            0  39530489      0.0\n",
       "sales          0  39530489      0.0"
      ]
     },
     "execution_count": 10,
     "metadata": {},
     "output_type": "execute_result"
    }
   ],
   "source": [
    "df_sales.stb.missing()"
   ]
  },
  {
   "cell_type": "code",
   "execution_count": 11,
   "id": "1463966e",
   "metadata": {
    "ExecuteTime": {
     "end_time": "2022-08-19T08:10:03.376358Z",
     "start_time": "2022-08-19T08:09:50.185605Z"
    }
   },
   "outputs": [
    {
     "data": {
      "image/png": "[encoded data removed]",
      "text/plain": [
       "<Figure size 720x432 with 1 Axes>"
      ]
     },
     "metadata": {
      "needs_background": "light"
     },
     "output_type": "display_data"
    }
   ],
   "source": [
    "sns.histplot(df_sales['day'], bins=30)\n",
    "plt.title('day')\n",
    "plt.show()"
   ]
  },
  {
   "cell_type": "code",
   "execution_count": 80,
   "id": "da640f27",
   "metadata": {
    "ExecuteTime": {
     "end_time": "2022-08-19T09:09:49.294027Z",
     "start_time": "2022-08-19T09:09:49.291053Z"
    }
   },
   "outputs": [],
   "source": [
    "# import plotly.express as px\n",
    "# fig = px.histogram(df_sales, x=\"day\", nbins=30)\n",
    "# fig.show()"
   ]
  },
  {
   "cell_type": "code",
   "execution_count": 2,
   "id": "0770f937",
   "metadata": {
    "ExecuteTime": {
     "end_time": "2023-01-16T09:53:01.651190Z",
     "start_time": "2023-01-16T09:53:01.647190Z"
    },
    "scrolled": true
   },
   "outputs": [],
   "source": [
    "df_sales['day'].value_counts().sort_index(ascending=True)"
   ]
  },
  {
   "cell_type": "code",
   "execution_count": 13,
   "id": "5384a800",
   "metadata": {
    "ExecuteTime": {
     "end_time": "2022-08-19T08:10:28.258511Z",
     "start_time": "2022-08-19T08:10:13.198777Z"
    }
   },
   "outputs": [
    {
     "data": {
      "image/png": "[encoded data removed]",
      "text/plain": [
       "<Figure size 720x432 with 1 Axes>"
      ]
     },
     "metadata": {
      "needs_background": "light"
     },
     "output_type": "display_data"
    }
   ],
   "source": [
    "sns.histplot(df_sales['sales'], bins=30)\n",
    "plt.title('sales')\n",
    "plt.show()"
   ]
  },
  {
   "cell_type": "code",
   "execution_count": 14,
   "id": "7e9f1cf1",
   "metadata": {
    "ExecuteTime": {
     "end_time": "2022-08-19T08:10:32.193922Z",
     "start_time": "2022-08-19T08:10:31.688938Z"
    }
   },
   "outputs": [
    {
     "data": {
      "text/plain": [
       "0        496\n",
       "1        529\n",
       "2        533\n",
       "3        553\n",
       "4        592\n",
       "        ... \n",
       "25611      1\n",
       "25630      1\n",
       "25640      1\n",
       "25659      1\n",
       "26047      1\n",
       "Name: sales, Length: 8574, dtype: int64"
      ]
     },
     "execution_count": 14,
     "metadata": {},
     "output_type": "execute_result"
    }
   ],
   "source": [
    "df_sales['sales'].value_counts().sort_index(ascending=True)"
   ]
  },
  {
   "cell_type": "code",
   "execution_count": 15,
   "id": "15de86d7",
   "metadata": {
    "ExecuteTime": {
     "end_time": "2022-08-19T08:10:34.836945Z",
     "start_time": "2022-08-19T08:10:34.556859Z"
    }
   },
   "outputs": [
    {
     "data": {
      "text/plain": [
       "1755.0"
      ]
     },
     "execution_count": 15,
     "metadata": {},
     "output_type": "execute_result"
    }
   ],
   "source": [
    "df_sales['sales'].quantile(0.99)"
   ]
  },
  {
   "cell_type": "markdown",
   "id": "73b2e352",
   "metadata": {},
   "source": [
    "LET'S DELETE OUTLIERS"
   ]
  },
  {
   "cell_type": "code",
   "execution_count": 17,
   "id": "91d8e55e",
   "metadata": {
    "ExecuteTime": {
     "end_time": "2022-08-19T08:11:02.168295Z",
     "start_time": "2022-08-19T08:11:01.059174Z"
    }
   },
   "outputs": [],
   "source": [
    "df_sales = df_sales.loc[(df_sales['sales'] > 0) & (df_sales['sales'] <= 2000), :]"
   ]
  },
  {
   "cell_type": "markdown",
   "id": "8535b45c",
   "metadata": {
    "ExecuteTime": {
     "end_time": "2022-08-17T11:32:33.304005Z",
     "start_time": "2022-08-17T11:32:33.302005Z"
    }
   },
   "source": [
    "## AGG"
   ]
  },
  {
   "cell_type": "code",
   "execution_count": 19,
   "id": "dc91220d",
   "metadata": {
    "ExecuteTime": {
     "end_time": "2022-08-19T08:11:35.869267Z",
     "start_time": "2022-08-19T08:11:32.084499Z"
    }
   },
   "outputs": [],
   "source": [
    "df_full = df_users.merge(df_sales, on=['user_id'], how='left')"
   ]
  },
  {
   "cell_type": "code",
   "execution_count": 20,
   "id": "41b1b0bb",
   "metadata": {
    "ExecuteTime": {
     "end_time": "2022-08-19T08:11:36.977321Z",
     "start_time": "2022-08-19T08:11:36.384938Z"
    }
   },
   "outputs": [
    {
     "data": {
      "text/html": [
       "<div>\n",
       "<style scoped>\n",
       "    .dataframe tbody tr th:only-of-type {\n",
       "        vertical-align: middle;\n",
       "    }\n",
       "\n",
       "    .dataframe tbody tr th {\n",
       "        vertical-align: top;\n",
       "    }\n",
       "\n",
       "    .dataframe thead th {\n",
       "        text-align: right;\n",
       "    }\n",
       "</style>\n",
       "<table border=\"1\" class=\"dataframe\">\n",
       "  <thead>\n",
       "    <tr style=\"text-align: right;\">\n",
       "      <th></th>\n",
       "      <th>missing</th>\n",
       "      <th>total</th>\n",
       "      <th>percent</th>\n",
       "    </tr>\n",
       "  </thead>\n",
       "  <tbody>\n",
       "    <tr>\n",
       "      <th>day</th>\n",
       "      <td>624</td>\n",
       "      <td>39335008</td>\n",
       "      <td>0.001586</td>\n",
       "    </tr>\n",
       "    <tr>\n",
       "      <th>sales</th>\n",
       "      <td>624</td>\n",
       "      <td>39335008</td>\n",
       "      <td>0.001586</td>\n",
       "    </tr>\n",
       "    <tr>\n",
       "      <th>user_id</th>\n",
       "      <td>0</td>\n",
       "      <td>39335008</td>\n",
       "      <td>0.000000</td>\n",
       "    </tr>\n",
       "    <tr>\n",
       "      <th>gender</th>\n",
       "      <td>0</td>\n",
       "      <td>39335008</td>\n",
       "      <td>0.000000</td>\n",
       "    </tr>\n",
       "    <tr>\n",
       "      <th>age</th>\n",
       "      <td>0</td>\n",
       "      <td>39335008</td>\n",
       "      <td>0.000000</td>\n",
       "    </tr>\n",
       "  </tbody>\n",
       "</table>\n",
       "</div>"
      ],
      "text/plain": [
       "         missing     total   percent\n",
       "day          624  39335008  0.001586\n",
       "sales        624  39335008  0.001586\n",
       "user_id        0  39335008  0.000000\n",
       "gender         0  39335008  0.000000\n",
       "age            0  39335008  0.000000"
      ]
     },
     "execution_count": 20,
     "metadata": {},
     "output_type": "execute_result"
    }
   ],
   "source": [
    "df_full.stb.missing()"
   ]
  },
  {
   "cell_type": "code",
   "execution_count": 21,
   "id": "43c0f75a",
   "metadata": {
    "ExecuteTime": {
     "end_time": "2022-08-19T08:12:59.612959Z",
     "start_time": "2022-08-19T08:12:59.604940Z"
    }
   },
   "outputs": [
    {
     "data": {
      "text/html": [
       "<div>\n",
       "<style scoped>\n",
       "    .dataframe tbody tr th:only-of-type {\n",
       "        vertical-align: middle;\n",
       "    }\n",
       "\n",
       "    .dataframe tbody tr th {\n",
       "        vertical-align: top;\n",
       "    }\n",
       "\n",
       "    .dataframe thead th {\n",
       "        text-align: right;\n",
       "    }\n",
       "</style>\n",
       "<table border=\"1\" class=\"dataframe\">\n",
       "  <thead>\n",
       "    <tr style=\"text-align: right;\">\n",
       "      <th></th>\n",
       "      <th>user_id</th>\n",
       "      <th>gender</th>\n",
       "      <th>age</th>\n",
       "      <th>day</th>\n",
       "      <th>sales</th>\n",
       "    </tr>\n",
       "  </thead>\n",
       "  <tbody>\n",
       "    <tr>\n",
       "      <th>0</th>\n",
       "      <td>2661066</td>\n",
       "      <td>0</td>\n",
       "      <td>22</td>\n",
       "      <td>0.0</td>\n",
       "      <td>397.0</td>\n",
       "    </tr>\n",
       "    <tr>\n",
       "      <th>1</th>\n",
       "      <td>3848565</td>\n",
       "      <td>1</td>\n",
       "      <td>29</td>\n",
       "      <td>1.0</td>\n",
       "      <td>841.0</td>\n",
       "    </tr>\n",
       "    <tr>\n",
       "      <th>2</th>\n",
       "      <td>3848565</td>\n",
       "      <td>1</td>\n",
       "      <td>29</td>\n",
       "      <td>2.0</td>\n",
       "      <td>423.0</td>\n",
       "    </tr>\n",
       "    <tr>\n",
       "      <th>3</th>\n",
       "      <td>3848565</td>\n",
       "      <td>1</td>\n",
       "      <td>29</td>\n",
       "      <td>4.0</td>\n",
       "      <td>826.0</td>\n",
       "    </tr>\n",
       "    <tr>\n",
       "      <th>4</th>\n",
       "      <td>3848565</td>\n",
       "      <td>1</td>\n",
       "      <td>29</td>\n",
       "      <td>6.0</td>\n",
       "      <td>859.0</td>\n",
       "    </tr>\n",
       "  </tbody>\n",
       "</table>\n",
       "</div>"
      ],
      "text/plain": [
       "   user_id  gender  age  day  sales\n",
       "0  2661066       0   22  0.0  397.0\n",
       "1  3848565       1   29  1.0  841.0\n",
       "2  3848565       1   29  2.0  423.0\n",
       "3  3848565       1   29  4.0  826.0\n",
       "4  3848565       1   29  6.0  859.0"
      ]
     },
     "execution_count": 21,
     "metadata": {},
     "output_type": "execute_result"
    }
   ],
   "source": [
    "df_full.head()"
   ]
  },
  {
   "cell_type": "code",
   "execution_count": 33,
   "id": "69cc79dd",
   "metadata": {
    "ExecuteTime": {
     "end_time": "2022-08-19T08:20:09.236197Z",
     "start_time": "2022-08-19T08:20:07.558317Z"
    }
   },
   "outputs": [],
   "source": [
    "df_full = df_full.fillna(0)"
   ]
  },
  {
   "cell_type": "code",
   "execution_count": 34,
   "id": "a6b71129",
   "metadata": {
    "ExecuteTime": {
     "end_time": "2022-08-19T08:20:34.179424Z",
     "start_time": "2022-08-19T08:20:33.275969Z"
    }
   },
   "outputs": [],
   "source": [
    "bins = [0, 6, 13, 20, 27, 35, 42, 49, 56]\n",
    "df_full['bins'] = pd.cut(df_full['day'], bins, right=True)"
   ]
  },
  {
   "cell_type": "markdown",
   "id": "81809270",
   "metadata": {
    "ExecuteTime": {
     "end_time": "2022-08-19T08:23:25.760823Z",
     "start_time": "2022-08-19T08:23:25.758823Z"
    }
   },
   "source": [
    "### SEARCH STRATS WITH WEEKS"
   ]
  },
  {
   "cell_type": "code",
   "execution_count": 36,
   "id": "09e6ffc5",
   "metadata": {
    "ExecuteTime": {
     "end_time": "2022-08-19T08:20:54.756180Z",
     "start_time": "2022-08-19T08:20:52.212518Z"
    }
   },
   "outputs": [],
   "source": [
    "df_full_agg = df_full.groupby(['gender', 'age', 'bins'])['sales'].sum().reset_index()"
   ]
  },
  {
   "cell_type": "code",
   "execution_count": 37,
   "id": "5edafa46",
   "metadata": {
    "ExecuteTime": {
     "end_time": "2022-08-19T08:21:02.176756Z",
     "start_time": "2022-08-19T08:21:01.961221Z"
    }
   },
   "outputs": [
    {
     "data": {
      "text/plain": [
       "<AxesSubplot:xlabel='age', ylabel='sales'>"
      ]
     },
     "execution_count": 37,
     "metadata": {},
     "output_type": "execute_result"
    },
    {
     "data": {
      "image/png": "[encoded data removed]",
      "text/plain": [
       "<Figure size 720x432 with 1 Axes>"
      ]
     },
     "metadata": {
      "needs_background": "light"
     },
     "output_type": "display_data"
    }
   ],
   "source": [
    "sns.scatterplot(data=df_full_agg, x=\"age\", y=\"sales\", hue=\"gender\")"
   ]
  },
  {
   "cell_type": "code",
   "execution_count": 4,
   "id": "6e62b1a2",
   "metadata": {
    "ExecuteTime": {
     "end_time": "2023-01-16T10:07:01.986748Z",
     "start_time": "2023-01-16T10:07:01.983746Z"
    }
   },
   "outputs": [],
   "source": [
    "import plotly.express as px\n",
    "fig = px.scatter(df_full_agg, x=\"age\", y=\"sales\", color=\"gender\", #size='',\n",
    "                  hover_data=['gender'])\n",
    "fig.show()"
   ]
  },
  {
   "cell_type": "markdown",
   "id": "4055a445",
   "metadata": {},
   "source": [
    "### SEARCH STRATS WITHOUT WEEKS"
   ]
  },
  {
   "cell_type": "code",
   "execution_count": 45,
   "id": "7c6427b3",
   "metadata": {
    "ExecuteTime": {
     "end_time": "2022-08-19T08:24:43.408886Z",
     "start_time": "2022-08-19T08:24:41.245251Z"
    }
   },
   "outputs": [],
   "source": [
    "df_full_agg = df_full.groupby(['gender', 'age'])['sales'].sum().reset_index()"
   ]
  },
  {
   "cell_type": "code",
   "execution_count": 46,
   "id": "35a2577e",
   "metadata": {
    "ExecuteTime": {
     "end_time": "2022-08-19T08:24:46.577102Z",
     "start_time": "2022-08-19T08:24:46.570106Z"
    }
   },
   "outputs": [
    {
     "data": {
      "text/html": [
       "<div>\n",
       "<style scoped>\n",
       "    .dataframe tbody tr th:only-of-type {\n",
       "        vertical-align: middle;\n",
       "    }\n",
       "\n",
       "    .dataframe tbody tr th {\n",
       "        vertical-align: top;\n",
       "    }\n",
       "\n",
       "    .dataframe thead th {\n",
       "        text-align: right;\n",
       "    }\n",
       "</style>\n",
       "<table border=\"1\" class=\"dataframe\">\n",
       "  <thead>\n",
       "    <tr style=\"text-align: right;\">\n",
       "      <th></th>\n",
       "      <th>gender</th>\n",
       "      <th>age</th>\n",
       "      <th>sales</th>\n",
       "    </tr>\n",
       "  </thead>\n",
       "  <tbody>\n",
       "    <tr>\n",
       "      <th>0</th>\n",
       "      <td>0</td>\n",
       "      <td>17</td>\n",
       "      <td>113478.0</td>\n",
       "    </tr>\n",
       "    <tr>\n",
       "      <th>1</th>\n",
       "      <td>0</td>\n",
       "      <td>18</td>\n",
       "      <td>10612500.0</td>\n",
       "    </tr>\n",
       "    <tr>\n",
       "      <th>2</th>\n",
       "      <td>0</td>\n",
       "      <td>19</td>\n",
       "      <td>76778347.0</td>\n",
       "    </tr>\n",
       "    <tr>\n",
       "      <th>3</th>\n",
       "      <td>0</td>\n",
       "      <td>20</td>\n",
       "      <td>247470183.0</td>\n",
       "    </tr>\n",
       "    <tr>\n",
       "      <th>4</th>\n",
       "      <td>0</td>\n",
       "      <td>21</td>\n",
       "      <td>503173306.0</td>\n",
       "    </tr>\n",
       "  </tbody>\n",
       "</table>\n",
       "</div>"
      ],
      "text/plain": [
       "   gender  age        sales\n",
       "0       0   17     113478.0\n",
       "1       0   18   10612500.0\n",
       "2       0   19   76778347.0\n",
       "3       0   20  247470183.0\n",
       "4       0   21  503173306.0"
      ]
     },
     "execution_count": 46,
     "metadata": {},
     "output_type": "execute_result"
    }
   ],
   "source": [
    "df_full_agg.head()"
   ]
  },
  {
   "cell_type": "code",
   "execution_count": 47,
   "id": "f4adf9ae",
   "metadata": {
    "ExecuteTime": {
     "end_time": "2022-08-19T08:24:49.848494Z",
     "start_time": "2022-08-19T08:24:49.662456Z"
    }
   },
   "outputs": [
    {
     "data": {
      "text/plain": [
       "<AxesSubplot:xlabel='age', ylabel='sales'>"
      ]
     },
     "execution_count": 47,
     "metadata": {},
     "output_type": "execute_result"
    },
    {
     "data": {
      "image/png": "[encoded data removed]",
      "text/plain": [
       "<Figure size 720x432 with 1 Axes>"
      ]
     },
     "metadata": {
      "needs_background": "light"
     },
     "output_type": "display_data"
    }
   ],
   "source": [
    "sns.scatterplot(data=df_full_agg, x=\"age\", y=\"sales\", hue=\"gender\")"
   ]
  },
  {
   "cell_type": "code",
   "execution_count": 3,
   "id": "80ececaf",
   "metadata": {
    "ExecuteTime": {
     "end_time": "2023-01-16T10:05:35.090891Z",
     "start_time": "2023-01-16T10:05:35.088890Z"
    }
   },
   "outputs": [],
   "source": [
    "import plotly.express as px\n",
    "fig = px.scatter(df_full_agg, x=\"age\", y=\"sales\", color=\"gender\", #size='',\n",
    "                  hover_data=['gender'])\n",
    "fig.show()"
   ]
  },
  {
   "cell_type": "markdown",
   "id": "8c754bd0",
   "metadata": {},
   "source": [
    "STRATS: <br>\n",
    "gender 0, age <= 25; <br>\n",
    "gender 1, age <= 25; <br>\n",
    "gender 0, age > 25; <br>\n",
    "gender 1, age > 25; <br>"
   ]
  },
  {
   "cell_type": "markdown",
   "id": "8cc1b337",
   "metadata": {
    "ExecuteTime": {
     "end_time": "2022-08-19T08:31:23.820609Z",
     "start_time": "2022-08-19T08:31:23.818588Z"
    }
   },
   "source": [
    "# DATA PREPARATIONS"
   ]
  },
  {
   "cell_type": "code",
   "execution_count": 3,
   "id": "ba412937",
   "metadata": {
    "ExecuteTime": {
     "end_time": "2022-08-19T09:17:08.567265Z",
     "start_time": "2022-08-19T09:17:02.267708Z"
    }
   },
   "outputs": [],
   "source": [
    "PATH_DF_USERS = \"data/df_users.csv\"\n",
    "PATH_DF_SALES = \"data/df_sales.csv\"\n",
    "\n",
    "# EMB_PATH_KNRM = os.environ['PATH_DF_USERS']\n",
    "# VOCAB_PATH = os.environ['PATH_DF_SALES']\n",
    "\n",
    "# Get data about users and their purchases\n",
    "df_users = pd.read_csv(PATH_DF_USERS)\n",
    "df_sales = pd.read_csv(PATH_DF_SALES)"
   ]
  },
  {
   "cell_type": "code",
   "execution_count": 4,
   "id": "477e066c",
   "metadata": {
    "ExecuteTime": {
     "end_time": "2022-08-19T09:17:11.618208Z",
     "start_time": "2022-08-19T09:17:10.506460Z"
    }
   },
   "outputs": [],
   "source": [
    "df_sales = df_sales.loc[(df_sales['sales'] > 0) & (df_sales['sales'] <= 2000), :]\n",
    "df_sales = df_sales.loc[df_sales['day'] >= 21, :]"
   ]
  },
  {
   "cell_type": "markdown",
   "id": "752d921a",
   "metadata": {},
   "source": [
    "<pre>\n",
    "gender;  age;   2 * age;   sum(gender + 2 * age); <br>\n",
    "0        0      0          0 <br>\n",
    "0        1      2          2 <br>\n",
    "1        0      0          1 <br>\n",
    "1        1      2          3 <br>\n",
    "</pre>"
   ]
  },
  {
   "cell_type": "code",
   "execution_count": 6,
   "id": "c526e7dd",
   "metadata": {
    "ExecuteTime": {
     "end_time": "2022-08-19T09:17:13.896938Z",
     "start_time": "2022-08-19T09:17:13.879940Z"
    }
   },
   "outputs": [],
   "source": [
    "df_users['stratum'] = (df_users['gender'] + (df_users['age'] > 25).astype(int) * 2).astype(int)\n",
    "strats_weights = df_users['stratum'].value_counts() / len(df_users['stratum'])"
   ]
  },
  {
   "cell_type": "code",
   "execution_count": 18,
   "id": "aba1ba8a",
   "metadata": {
    "ExecuteTime": {
     "end_time": "2022-08-19T09:18:47.832356Z",
     "start_time": "2022-08-19T09:18:46.434021Z"
    }
   },
   "outputs": [],
   "source": [
    "df_sales_prepilot_agg = (df_sales.loc[df_sales['day'].isin(np.arange(21, 49))]\n",
    "                         .groupby(['user_id'])['sales'].sum().reset_index()\n",
    "                         .rename(columns={'sales':'sales_prepilot'})\n",
    "                         )"
   ]
  },
  {
   "cell_type": "code",
   "execution_count": 19,
   "id": "a454dec4",
   "metadata": {
    "ExecuteTime": {
     "end_time": "2022-08-19T09:18:49.102590Z",
     "start_time": "2022-08-19T09:18:48.313328Z"
    }
   },
   "outputs": [],
   "source": [
    "df_sales_pilot_agg = (df_sales.loc[df_sales['day'].isin(np.arange(49, 56))]\n",
    "                         .groupby(['user_id'])['sales'].sum().reset_index()\n",
    "                         .rename(columns={'sales':'sales_pilot'})\n",
    "                        )"
   ]
  },
  {
   "cell_type": "code",
   "execution_count": 23,
   "id": "374293ab",
   "metadata": {
    "ExecuteTime": {
     "end_time": "2022-08-19T09:21:40.437696Z",
     "start_time": "2022-08-19T09:21:39.487725Z"
    }
   },
   "outputs": [],
   "source": [
    "df_final = pd.DataFrame({'user_id': df_sales['user_id'].unique()})\n",
    "df_final = df_final.merge(df_sales_prepilot_agg, on=['user_id'], how='left').fillna(0)\n",
    "df_final = df_final.merge(df_sales_pilot_agg, on=['user_id'], how='left').fillna(0)"
   ]
  },
  {
   "cell_type": "code",
   "execution_count": 25,
   "id": "13517852",
   "metadata": {
    "ExecuteTime": {
     "end_time": "2022-08-19T09:21:55.707223Z",
     "start_time": "2022-08-19T09:21:55.598702Z"
    }
   },
   "outputs": [],
   "source": [
    "# CALC THETA\n",
    "cov_val = df_final['sales_prepilot'].values\n",
    "target_val = df_final['sales_pilot'].values\n",
    "covariance = np.cov(cov_val, target_val)[0, 1]\n",
    "variance = cov_val.var()\n",
    "theta = covariance / variance"
   ]
  },
  {
   "cell_type": "code",
   "execution_count": 26,
   "id": "5e5aedb4",
   "metadata": {
    "ExecuteTime": {
     "end_time": "2022-08-19T09:23:03.509861Z",
     "start_time": "2022-08-19T09:23:03.494864Z"
    }
   },
   "outputs": [],
   "source": [
    "df_final['sales_cuped'] = df_final['sales_pilot'] - theta * df_final['sales_prepilot']"
   ]
  },
  {
   "cell_type": "markdown",
   "id": "b7bda516",
   "metadata": {},
   "source": [
    "# GATHERING ALL TOGETHER"
   ]
  },
  {
   "cell_type": "code",
   "execution_count": 1,
   "id": "3d250890",
   "metadata": {
    "ExecuteTime": {
     "end_time": "2022-08-19T13:15:53.477897Z",
     "start_time": "2022-08-19T13:15:39.418456Z"
    }
   },
   "outputs": [
    {
     "name": "stderr",
     "output_type": "stream",
     "text": [
      "<frozen importlib._bootstrap>:219: RuntimeWarning: scipy._lib.messagestream.MessageStream size changed, may indicate binary incompatibility. Expected 56 from C header, got 64 from PyObject\n"
     ]
    }
   ],
   "source": [
    "import os\n",
    "import json\n",
    "import time\n",
    "import gc\n",
    "\n",
    "import numpy as np\n",
    "import pandas as pd\n",
    "from scipy.stats import ttest_ind\n",
    "from flask import Flask, jsonify, request\n",
    "\n",
    "PATH_DF_USERS = \"data/df_users.csv\"\n",
    "PATH_DF_SALES = \"data/df_sales.csv\"\n",
    "\n",
    "# PATH_DF_USERS = os.environ['PATH_DF_USERS']\n",
    "# PATH_DF_SALES = os.environ['PATH_DF_SALES']\n",
    "\n",
    "df_users = pd.read_csv(PATH_DF_USERS)\n",
    "df_sales = pd.read_csv(PATH_DF_SALES)\n",
    "\n",
    "# USERS\n",
    "df_users['stratum'] = (df_users['gender'] + (df_users['age'] > 25).astype(int) * 2).astype(int)\n",
    "strats_weights = df_users['stratum'].value_counts() / len(df_users['stratum'])\n",
    "\n",
    "# SALES\n",
    "df_sales = df_sales.loc[(df_sales['sales'] > 0) & (df_sales['sales'] <= 2000), :]\n",
    "df_sales = df_sales.loc[df_sales['day'] >= 21, :]\n",
    "\n",
    "df_sales_prepilot_agg = (df_sales.loc[df_sales['day'].isin(np.arange(21, 21+28))]\n",
    "                         .groupby(['user_id'])['sales'].sum().reset_index()\n",
    "                         .rename(columns={'sales':'sales_prepilot'})\n",
    "                         )\n",
    "\n",
    "df_sales_pilot_agg = (df_sales.loc[df_sales['day'].isin(np.arange(49, 56))]\n",
    "                         .groupby(['user_id'])['sales'].sum().reset_index()\n",
    "                         .rename(columns={'sales':'sales_pilot'})\n",
    "                      )\n",
    "\n",
    "# FINAL SALES DF\n",
    "df_final_sales = pd.DataFrame({'user_id': df_sales['user_id'].unique()})\n",
    "del df_sales\n",
    "df_final_sales = df_final_sales.merge(df_sales_prepilot_agg, on=['user_id'], how='left').fillna(0)\n",
    "df_final_sales = df_final_sales.merge(df_sales_pilot_agg, on=['user_id'], how='left').fillna(0)\n",
    "\n",
    "# CALC THETA\n",
    "cov_val = df_final_sales['sales_prepilot'].values\n",
    "target_val = df_final_sales['sales_pilot'].values\n",
    "covariance = np.cov(cov_val, target_val)[0, 1]\n",
    "variance = cov_val.var()\n",
    "theta = covariance / variance\n",
    "\n",
    "# CUPED SALES\n",
    "df_final_sales['sales_cuped'] = df_final_sales['sales_pilot'] - theta * df_final_sales['sales_prepilot']\n",
    "del df_sales_prepilot_agg, df_sales_pilot_agg, cov_val, target_val, covariance, variance, theta"
   ]
  },
  {
   "cell_type": "code",
   "execution_count": 20,
   "id": "f4c8c4fd",
   "metadata": {
    "ExecuteTime": {
     "end_time": "2022-08-19T13:19:52.344705Z",
     "start_time": "2022-08-19T13:19:28.803180Z"
    }
   },
   "outputs": [
    {
     "name": "stdout",
     "output_type": "stream",
     "text": [
      " * Serving Flask app \"__main__\" (lazy loading)\n",
      " * Environment: production\n",
      "\u001b[31m   WARNING: This is a development server. Do not use it in a production deployment.\u001b[0m\n",
      "\u001b[2m   Use a production WSGI server instead.\u001b[0m\n",
      " * Debug mode: off\n"
     ]
    },
    {
     "name": "stderr",
     "output_type": "stream",
     "text": [
      " * Running on http://127.0.0.1:11000/ (Press CTRL+C to quit)\n",
      "127.0.0.1 - - [19/Aug/2022 16:19:31] \"GET /ping HTTP/1.1\" 200 -\n",
      "127.0.0.1 - - [19/Aug/2022 16:19:31] \"POST /check_test HTTP/1.1\" 200 -\n"
     ]
    }
   ],
   "source": [
    "app = Flask(__name__)\n",
    "\n",
    "@app.route('/ping')\n",
    "def ping():\n",
    "    return jsonify(status='ok')\n",
    "\n",
    "def _check_test(test):\n",
    "    \n",
    "    def _calc_strat_values(df, strats, weights):\n",
    "        mean_strats = df.groupby(['stratum'])['sales_cuped'].mean()\n",
    "        mean = (mean_strats * weights).sum()\n",
    "        var_strats = df.groupby(['stratum'])['sales_cuped'].var()\n",
    "        var = (var_strats * weights).sum()\n",
    "        return mean, var\n",
    "\n",
    "    def _check_calc(df_a, df_b, strats, weights):\n",
    "        mean_control, var_control = _calc_strat_values(df_a, strats, weights)\n",
    "        mean_pilot, var_pilot = _calc_strat_values(df_b, strats, weights)\n",
    "        \n",
    "        delta_mean = mean_pilot - mean_control\n",
    "        std_mean = (var_control / len(df_a) + var_pilot / len(df_b)) ** 0.5\n",
    "        \n",
    "        left_bound = delta_mean - 1.96 * std_mean\n",
    "        right_bound = delta_mean + 1.96 * std_mean\n",
    "\n",
    "        return int(left_bound > 0)\n",
    "\n",
    "    # MAKING DFS FROM USERS IDS\n",
    "    group_a_one = test['group_a_one']\n",
    "    group_a_two = test['group_a_two']\n",
    "    group_b = test['group_b']\n",
    "    all_user_ids = group_a_one + group_a_two + group_b\n",
    "    \n",
    "    df_full = (df_users.loc[df_users['user_id'].isin(all_user_ids), :]\n",
    "                 .merge(df_final_sales.loc[df_final_sales['user_id'].isin(all_user_ids), \n",
    "                                           ['user_id', 'sales_cuped']], on=['user_id'], how='left')\n",
    "                )\n",
    "    \n",
    "    df_full_a_one = df_full.loc[df_full['user_id'].isin(group_a_one), :]\n",
    "    \n",
    "    df_full_a_two = df_full.loc[df_full['user_id'].isin(group_a_two), :]\n",
    "    \n",
    "    df_full_b = df_full.loc[df_full['user_id'].isin(group_b), :]\n",
    "    \n",
    "    # CHECKING THAT ALL GROUPS HAVE THE SAME STRATS\n",
    "    strats_a_one = set(df_full_a_one['stratum'].unique())\n",
    "    strats_a_two = set(df_full_a_two['stratum'].unique())\n",
    "    strats_b = set(df_full_b['stratum'].unique())\n",
    "    if (strats_a_one == strats_a_two == strats_b) and len(strats_a_one) > 1: \n",
    "        pass \n",
    "    else:\n",
    "        return 0\n",
    "    \n",
    "    # CALC NEW STRAT WEIGHTS\n",
    "    curr_types_strats = list(strats_a_one)\n",
    "    curr_strats_weights = strats_weights.loc[curr_types_strats] / strats_weights.loc[curr_types_strats].sum()\n",
    "    \n",
    "    # AA\n",
    "    if _check_calc(df_full_a_one, df_full_a_two, curr_types_strats, curr_strats_weights):\n",
    "        return 0\n",
    "    \n",
    "    ## AB\n",
    "    return _check_calc(pd.concat([df_full_a_one, df_full_a_two], ignore_index=True, axis=0), \n",
    "                       df_full_b, curr_types_strats, curr_strats_weights)\n",
    "\n",
    "@app.route('/check_test', methods=['POST'])\n",
    "def check_test():\n",
    "    test = request.json['test']\n",
    "    has_effect = _check_test(test)\n",
    "    return jsonify(has_effect=int(has_effect))\n",
    "\n",
    "from werkzeug.middleware.proxy_fix import ProxyFix\n",
    "app.wsgi_app = ProxyFix(app.wsgi_app)\n",
    "app.run(debug=False, host=\"127.0.0.1\", port=11000)"
   ]
  },
  {
   "cell_type": "code",
   "execution_count": 19,
   "id": "74f2b5f9",
   "metadata": {
    "ExecuteTime": {
     "end_time": "2022-08-19T13:19:13.325811Z",
     "start_time": "2022-08-19T13:19:13.275821Z"
    }
   },
   "outputs": [
    {
     "data": {
      "text/plain": [
       "0"
      ]
     },
     "execution_count": 19,
     "metadata": {},
     "output_type": "execute_result"
    }
   ],
   "source": [
    "# USE FILE checking_connection or THIS\n",
    "\n",
    "req = {'test': {'group_a_one': [6704461, 8415475, 5341240], \n",
    "                    'group_a_two': [7948400, 9442928, 7249197], \n",
    "                    'group_b': [7095673, 2204967, 9142264]}}\n",
    "test = req['test']\n",
    "_check_test(test)"
   ]
  }
 ],
 "metadata": {
  "kernelspec": {
   "display_name": "Python 3",
   "language": "python",
   "name": "python3"
  },
  "language_info": {
   "codemirror_mode": {
    "name": "ipython",
    "version": 3
   },
   "file_extension": ".py",
   "mimetype": "text/x-python",
   "name": "python",
   "nbconvert_exporter": "python",
   "pygments_lexer": "ipython3",
   "version": "3.8.8"
  },
  "toc": {
   "base_numbering": 1,
   "nav_menu": {},
   "number_sections": true,
   "sideBar": true,
   "skip_h1_title": false,
   "title_cell": "Table of Contents",
   "title_sidebar": "Contents",
   "toc_cell": false,
   "toc_position": {
    "height": "calc(100% - 180px)",
    "left": "10px",
    "top": "150px",
    "width": "384px"
   },
   "toc_section_display": true,
   "toc_window_display": true
  },
  "varInspector": {
   "cols": {
    "lenName": 16,
    "lenType": 16,
    "lenVar": 40
   },
   "kernels_config": {
    "python": {
     "delete_cmd_postfix": "",
     "delete_cmd_prefix": "del ",
     "library": "var_list.py",
     "varRefreshCmd": "print(var_dic_list())"
    },
    "r": {
     "delete_cmd_postfix": ") ",
     "delete_cmd_prefix": "rm(",
     "library": "var_list.r",
     "varRefreshCmd": "cat(var_dic_list()) "
    }
   },
   "types_to_exclude": [
    "module",
    "function",
    "builtin_function_or_method",
    "instance",
    "_Feature"
   ],
   "window_display": false
  }
 },
 "nbformat": 4,
 "nbformat_minor": 5
}
