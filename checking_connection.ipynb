{
 "cells": [
  {
   "cell_type": "code",
   "execution_count": 19,
   "id": "1261d1db",
   "metadata": {
    "ExecuteTime": {
     "end_time": "2022-08-19T13:19:30.726681Z",
     "start_time": "2022-08-19T13:19:30.721679Z"
    }
   },
   "outputs": [],
   "source": [
    "import requests, json"
   ]
  },
  {
   "cell_type": "code",
   "execution_count": 20,
   "id": "ae0a3731",
   "metadata": {
    "ExecuteTime": {
     "end_time": "2022-08-19T13:19:31.321495Z",
     "start_time": "2022-08-19T13:19:31.306571Z"
    }
   },
   "outputs": [
    {
     "data": {
      "text/plain": [
       "'{\"status\":\"ok\"}\\n'"
      ]
     },
     "execution_count": 20,
     "metadata": {},
     "output_type": "execute_result"
    }
   ],
   "source": [
    "url = 'http://127.0.0.1:11000/ping'\n",
    "response = requests.get(url=url)\n",
    "response.text"
   ]
  },
  {
   "cell_type": "code",
   "execution_count": 21,
   "id": "b34c1aa1",
   "metadata": {
    "ExecuteTime": {
     "end_time": "2022-08-19T13:19:31.740570Z",
     "start_time": "2022-08-19T13:19:31.684538Z"
    }
   },
   "outputs": [
    {
     "data": {
      "text/plain": [
       "'{\"has_effect\":0}\\n'"
      ]
     },
     "execution_count": 21,
     "metadata": {},
     "output_type": "execute_result"
    }
   ],
   "source": [
    "url = 'http://127.0.0.1:11000/check_test'\n",
    "params = {'test': {'group_a_one': [6704461, 8415475, 5341240], \n",
    "                    'group_a_two': [7948400, 9442928, 7249197], \n",
    "                    'group_b': [7095673, 2204967, 9142264]}}\n",
    "response = requests.post(url=url, json=params)\n",
    "response.text"
   ]
  }
 ],
 "metadata": {
  "kernelspec": {
   "display_name": "Python 3",
   "language": "python",
   "name": "python3"
  },
  "language_info": {
   "codemirror_mode": {
    "name": "ipython",
    "version": 3
   },
   "file_extension": ".py",
   "mimetype": "text/x-python",
   "name": "python",
   "nbconvert_exporter": "python",
   "pygments_lexer": "ipython3",
   "version": "3.8.8"
  },
  "toc": {
   "base_numbering": 1,
   "nav_menu": {},
   "number_sections": true,
   "sideBar": true,
   "skip_h1_title": false,
   "title_cell": "Table of Contents",
   "title_sidebar": "Contents",
   "toc_cell": false,
   "toc_position": {},
   "toc_section_display": true,
   "toc_window_display": false
  },
  "varInspector": {
   "cols": {
    "lenName": 16,
    "lenType": 16,
    "lenVar": 40
   },
   "kernels_config": {
    "python": {
     "delete_cmd_postfix": "",
     "delete_cmd_prefix": "del ",
     "library": "var_list.py",
     "varRefreshCmd": "print(var_dic_list())"
    },
    "r": {
     "delete_cmd_postfix": ") ",
     "delete_cmd_prefix": "rm(",
     "library": "var_list.r",
     "varRefreshCmd": "cat(var_dic_list()) "
    }
   },
   "types_to_exclude": [
    "module",
    "function",
    "builtin_function_or_method",
    "instance",
    "_Feature"
   ],
   "window_display": false
  }
 },
 "nbformat": 4,
 "nbformat_minor": 5
}
